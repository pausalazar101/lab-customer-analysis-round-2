{
 "cells": [
  {
   "cell_type": "code",
   "execution_count": 79,
   "id": "5eb36393-e653-4fa1-893e-fc516a52bef4",
   "metadata": {},
   "outputs": [],
   "source": [
    "import pandas as pd\n",
    "import numpy as np\n",
    "df=pd.read_csv(r'~/Desktop/Ironhack/Week_1_Lab/lab-customer-analysis-round-2/files_for_lab/csv_files/marketing_customer_analysis.csv')"
   ]
  },
  {
   "cell_type": "markdown",
   "id": "d8805fd0-bde1-4666-84df-ffb783392e52",
   "metadata": {},
   "source": [
    "Show the dataframe shape."
   ]
  },
  {
   "cell_type": "code",
   "execution_count": 80,
   "id": "141680c1-0589-485d-a18a-a860291cc481",
   "metadata": {},
   "outputs": [
    {
     "data": {
      "text/plain": [
       "(10910, 26)"
      ]
     },
     "execution_count": 80,
     "metadata": {},
     "output_type": "execute_result"
    }
   ],
   "source": [
    "df.shape"
   ]
  },
  {
   "cell_type": "markdown",
   "id": "992d492e-998f-4646-b1d1-a98550d8e038",
   "metadata": {},
   "source": [
    "Standardize header names."
   ]
  },
  {
   "cell_type": "code",
   "execution_count": 81,
   "id": "0943f20c-7e2f-49a8-888e-09886d5c81e0",
   "metadata": {},
   "outputs": [],
   "source": [
    "df.columns = map(lambda x : x.replace(\" \", \"_\"), df.columns)"
   ]
  },
  {
   "cell_type": "markdown",
   "id": "c58fd53d-58c2-4d87-9421-8c29a12aa523",
   "metadata": {},
   "source": [
    "Which columns are numerical?"
   ]
  },
  {
   "cell_type": "code",
   "execution_count": 82,
   "id": "63315f85-319c-40b1-87c2-536c464ecf29",
   "metadata": {},
   "outputs": [],
   "source": [
    "num_cols = df._get_numeric_data().columns"
   ]
  },
  {
   "cell_type": "code",
   "execution_count": 83,
   "id": "b5c2c5f6-4aa4-42db-a421-d661da1a5dd4",
   "metadata": {},
   "outputs": [
    {
     "data": {
      "text/plain": [
       "['Months_Since_Policy_Inception',\n",
       " 'Number_of_Open_Complaints',\n",
       " 'Unnamed:_0',\n",
       " 'Monthly_Premium_Auto',\n",
       " 'Number_of_Policies',\n",
       " 'Months_Since_Last_Claim',\n",
       " 'Total_Claim_Amount',\n",
       " 'Income',\n",
       " 'Customer_Lifetime_Value']"
      ]
     },
     "execution_count": 83,
     "metadata": {},
     "output_type": "execute_result"
    }
   ],
   "source": [
    "list(set(num_cols))"
   ]
  },
  {
   "cell_type": "markdown",
   "id": "0e0f8f4b-0931-441d-86e3-20d5287992e3",
   "metadata": {},
   "source": [
    "Which columns are categorical?"
   ]
  },
  {
   "cell_type": "code",
   "execution_count": 84,
   "id": "afd85468-b4e4-45c8-a98e-2815bf385440",
   "metadata": {},
   "outputs": [
    {
     "data": {
      "text/plain": [
       "['Vehicle_Class',\n",
       " 'Location_Code',\n",
       " 'Gender',\n",
       " 'EmploymentStatus',\n",
       " 'Renew_Offer_Type',\n",
       " 'Policy',\n",
       " 'Education',\n",
       " 'Vehicle_Type',\n",
       " 'Policy_Type',\n",
       " 'Customer',\n",
       " 'State',\n",
       " 'Marital_Status',\n",
       " 'Response',\n",
       " 'Sales_Channel',\n",
       " 'Vehicle_Size',\n",
       " 'Effective_To_Date',\n",
       " 'Coverage']"
      ]
     },
     "execution_count": 84,
     "metadata": {},
     "output_type": "execute_result"
    }
   ],
   "source": [
    "list(set(df.columns) - set(num_cols))"
   ]
  },
  {
   "cell_type": "markdown",
   "id": "648c7b27-4c52-4604-8daf-74823117f20d",
   "metadata": {},
   "source": [
    "Check and deal with NaN values."
   ]
  },
  {
   "cell_type": "code",
   "execution_count": 85,
   "id": "99c7ad4b-0769-40c4-8ead-52d2ac2014a2",
   "metadata": {},
   "outputs": [
    {
     "data": {
      "text/plain": [
       "Unnamed:_0                          0\n",
       "Customer                            0\n",
       "State                             631\n",
       "Customer_Lifetime_Value             0\n",
       "Response                          631\n",
       "Coverage                            0\n",
       "Education                           0\n",
       "Effective_To_Date                   0\n",
       "EmploymentStatus                    0\n",
       "Gender                              0\n",
       "Income                              0\n",
       "Location_Code                       0\n",
       "Marital_Status                      0\n",
       "Monthly_Premium_Auto                0\n",
       "Months_Since_Last_Claim           633\n",
       "Months_Since_Policy_Inception       0\n",
       "Number_of_Open_Complaints         633\n",
       "Number_of_Policies                  0\n",
       "Policy_Type                         0\n",
       "Policy                              0\n",
       "Renew_Offer_Type                    0\n",
       "Sales_Channel                       0\n",
       "Total_Claim_Amount                  0\n",
       "Vehicle_Class                     622\n",
       "Vehicle_Size                      622\n",
       "Vehicle_Type                     5482\n",
       "dtype: int64"
      ]
     },
     "execution_count": 85,
     "metadata": {},
     "output_type": "execute_result"
    }
   ],
   "source": [
    "df_NaN_sum=df.isnull().sum()\n",
    "df_NaN_sum"
   ]
  },
  {
   "cell_type": "code",
   "execution_count": 86,
   "id": "0e85d835-3772-4088-9fa4-16fa72740304",
   "metadata": {},
   "outputs": [
    {
     "name": "stdout",
     "output_type": "stream",
     "text": [
      "State\n",
      "Response\n",
      "Months_Since_Last_Claim\n",
      "Number_of_Open_Complaints\n",
      "Vehicle_Class\n",
      "Vehicle_Size\n",
      "Vehicle_Type\n"
     ]
    }
   ],
   "source": [
    "j=0\n",
    "for i in range(len(df.columns)):\n",
    "    if(df_NaN_sum[i]>0):\n",
    "        print(df.columns[i])\n",
    "        "
   ]
  },
  {
   "cell_type": "code",
   "execution_count": 87,
   "id": "6307bfd3-41f8-483d-b3e9-f858a6547b0b",
   "metadata": {},
   "outputs": [],
   "source": [
    "df['State'].fillna('Not_Listed',inplace=True)\n",
    "df['Response'].fillna('No',inplace=True)\n",
    "df['Months_Since_Last_Claim'].fillna(df['Months_Since_Last_Claim'].median,inplace=True)\n",
    "df['Number_of_Open_Complaints'].fillna(df['Number_of_Open_Complaints'].mode,inplace=True)\n"
   ]
  },
  {
   "cell_type": "markdown",
   "id": "e07f6769-9d3a-46d5-b0a3-37b066481dea",
   "metadata": {},
   "source": []
  },
  {
   "cell_type": "code",
   "execution_count": 90,
   "id": "5a292bf2-f315-4f74-9226-710af5b58947",
   "metadata": {},
   "outputs": [],
   "source": [
    "df['Vehicle_Class'].fillna(df['Vehicle_Class'].mode,inplace=True)\n",
    "df['Vehicle_Size'].fillna(df['Vehicle_Size'].mode,inplace=True)"
   ]
  },
  {
   "cell_type": "markdown",
   "id": "4b43928c-d8f1-4920-87fc-fba731142666",
   "metadata": {},
   "source": [
    "Vehicle_Type has the most missing data of all collumns. For Vehicle Type, are vehicles listed have class A. **It is likely that not entering the type representws a second type**. It is also a possibility that it is a systematic mistake and vehicles are all type A. We need more information. Untill then, they are saved as Not_Listed"
   ]
  },
  {
   "cell_type": "code",
   "execution_count": 91,
   "id": "71c6898d-8e39-42f4-9e6d-0d22fc6e2287",
   "metadata": {},
   "outputs": [],
   "source": [
    "df['Vehicle_Type'].fillna('Not_Listed',inplace=True)"
   ]
  },
  {
   "cell_type": "code",
   "execution_count": 92,
   "id": "1e144831-2e86-48f2-bcfc-bd40a61b18ed",
   "metadata": {},
   "outputs": [
    {
     "data": {
      "text/plain": [
       "Unnamed:_0                       0\n",
       "Customer                         0\n",
       "State                            0\n",
       "Customer_Lifetime_Value          0\n",
       "Response                         0\n",
       "Coverage                         0\n",
       "Education                        0\n",
       "Effective_To_Date                0\n",
       "EmploymentStatus                 0\n",
       "Gender                           0\n",
       "Income                           0\n",
       "Location_Code                    0\n",
       "Marital_Status                   0\n",
       "Monthly_Premium_Auto             0\n",
       "Months_Since_Last_Claim          0\n",
       "Months_Since_Policy_Inception    0\n",
       "Number_of_Open_Complaints        0\n",
       "Number_of_Policies               0\n",
       "Policy_Type                      0\n",
       "Policy                           0\n",
       "Renew_Offer_Type                 0\n",
       "Sales_Channel                    0\n",
       "Total_Claim_Amount               0\n",
       "Vehicle_Class                    0\n",
       "Vehicle_Size                     0\n",
       "Vehicle_Type                     0\n",
       "dtype: int64"
      ]
     },
     "execution_count": 92,
     "metadata": {},
     "output_type": "execute_result"
    }
   ],
   "source": [
    "df_NaN_sum=df.isnull().sum()\n",
    "df_NaN_sum"
   ]
  },
  {
   "cell_type": "markdown",
   "id": "319d22cb-d242-4ca6-81d3-47f45a170e87",
   "metadata": {},
   "source": [
    "Datetime format - Extract the months from the dataset and store in a separate column. Then filter the data to show only the information for the first quarter , ie. January, February and March. Hint: If data from March does not exist, consider only January and February."
   ]
  },
  {
   "cell_type": "code",
   "execution_count": 94,
   "id": "7e1f0a8b-362a-4da8-bd86-b6587e110455",
   "metadata": {},
   "outputs": [
    {
     "data": {
      "text/plain": [
       "0        2/18/11\n",
       "1        1/18/11\n",
       "2        2/10/11\n",
       "3        1/11/11\n",
       "4        1/17/11\n",
       "          ...   \n",
       "10905    1/19/11\n",
       "10906     1/6/11\n",
       "10907     2/6/11\n",
       "10908    2/13/11\n",
       "10909     1/8/11\n",
       "Name: Effective_To_Date, Length: 10910, dtype: object"
      ]
     },
     "execution_count": 94,
     "metadata": {},
     "output_type": "execute_result"
    }
   ],
   "source": [
    "df['Effective_To_Date']"
   ]
  },
  {
   "cell_type": "code",
   "execution_count": 111,
   "id": "d121bade-4438-47ec-85fc-87ff76383085",
   "metadata": {},
   "outputs": [
    {
     "data": {
      "text/plain": [
       "0       2011-02-18\n",
       "1       2011-01-18\n",
       "2       2011-02-10\n",
       "3       2011-01-11\n",
       "4       2011-01-17\n",
       "           ...    \n",
       "10905   2011-01-19\n",
       "10906   2011-01-06\n",
       "10907   2011-02-06\n",
       "10908   2011-02-13\n",
       "10909   2011-01-08\n",
       "Name: Effective_To_Date, Length: 10910, dtype: datetime64[ns]"
      ]
     },
     "execution_count": 111,
     "metadata": {},
     "output_type": "execute_result"
    }
   ],
   "source": [
    "dates=pd.to_datetime(df['Effective_To_Date'])\n",
    "dates"
   ]
  },
  {
   "cell_type": "code",
   "execution_count": 125,
   "id": "f0c4fd54-3a55-405e-a348-74af84f017a5",
   "metadata": {},
   "outputs": [],
   "source": [
    "for i in range (len(dates)):\n",
    "    months[i]=np.datetime64(dates[i]).astype(object).month"
   ]
  },
  {
   "cell_type": "code",
   "execution_count": 128,
   "id": "f478115d-e8c2-4c17-b4df-bcdc6a108422",
   "metadata": {},
   "outputs": [
    {
     "data": {
      "text/plain": [
       "array([2, 1, 2, ..., 2, 2, 1])"
      ]
     },
     "execution_count": 128,
     "metadata": {},
     "output_type": "execute_result"
    }
   ],
   "source": [
    "months.values"
   ]
  },
  {
   "cell_type": "code",
   "execution_count": 131,
   "id": "8fffd75d-77a6-44c3-b99b-70edc7e6623b",
   "metadata": {},
   "outputs": [
    {
     "data": {
      "text/plain": [
       "0        2\n",
       "1        1\n",
       "2        2\n",
       "3        1\n",
       "4        1\n",
       "        ..\n",
       "10905    1\n",
       "10906    1\n",
       "10907    2\n",
       "10908    2\n",
       "10909    1\n",
       "Name: Month, Length: 10910, dtype: int64"
      ]
     },
     "execution_count": 131,
     "metadata": {},
     "output_type": "execute_result"
    }
   ],
   "source": [
    "df['Month']=months\n",
    "df['Month']"
   ]
  },
  {
   "cell_type": "code",
   "execution_count": 138,
   "id": "bbd338a4-82c1-45cc-ba91-471393ccbc11",
   "metadata": {},
   "outputs": [],
   "source": [
    "df_first_quarter=df[(df['Month']<4)]"
   ]
  },
  {
   "cell_type": "code",
   "execution_count": 139,
   "id": "fb052e37-949a-4215-8bf9-9473c7ede161",
   "metadata": {},
   "outputs": [
    {
     "data": {
      "text/html": [
       "<div>\n",
       "<style scoped>\n",
       "    .dataframe tbody tr th:only-of-type {\n",
       "        vertical-align: middle;\n",
       "    }\n",
       "\n",
       "    .dataframe tbody tr th {\n",
       "        vertical-align: top;\n",
       "    }\n",
       "\n",
       "    .dataframe thead th {\n",
       "        text-align: right;\n",
       "    }\n",
       "</style>\n",
       "<table border=\"1\" class=\"dataframe\">\n",
       "  <thead>\n",
       "    <tr style=\"text-align: right;\">\n",
       "      <th></th>\n",
       "      <th>Response</th>\n",
       "      <th>Coverage</th>\n",
       "      <th>Education</th>\n",
       "      <th>Effective_To_Date</th>\n",
       "    </tr>\n",
       "  </thead>\n",
       "  <tbody>\n",
       "    <tr>\n",
       "      <th>0</th>\n",
       "      <td>No</td>\n",
       "      <td>Basic</td>\n",
       "      <td>College</td>\n",
       "      <td>2/18/11</td>\n",
       "    </tr>\n",
       "    <tr>\n",
       "      <th>1</th>\n",
       "      <td>No</td>\n",
       "      <td>Basic</td>\n",
       "      <td>College</td>\n",
       "      <td>1/18/11</td>\n",
       "    </tr>\n",
       "    <tr>\n",
       "      <th>2</th>\n",
       "      <td>No</td>\n",
       "      <td>Basic</td>\n",
       "      <td>Bachelor</td>\n",
       "      <td>2/10/11</td>\n",
       "    </tr>\n",
       "    <tr>\n",
       "      <th>3</th>\n",
       "      <td>Yes</td>\n",
       "      <td>Extended</td>\n",
       "      <td>College</td>\n",
       "      <td>1/11/11</td>\n",
       "    </tr>\n",
       "    <tr>\n",
       "      <th>4</th>\n",
       "      <td>No</td>\n",
       "      <td>Premium</td>\n",
       "      <td>Bachelor</td>\n",
       "      <td>1/17/11</td>\n",
       "    </tr>\n",
       "    <tr>\n",
       "      <th>...</th>\n",
       "      <td>...</td>\n",
       "      <td>...</td>\n",
       "      <td>...</td>\n",
       "      <td>...</td>\n",
       "    </tr>\n",
       "    <tr>\n",
       "      <th>10905</th>\n",
       "      <td>No</td>\n",
       "      <td>Premium</td>\n",
       "      <td>Bachelor</td>\n",
       "      <td>1/19/11</td>\n",
       "    </tr>\n",
       "    <tr>\n",
       "      <th>10906</th>\n",
       "      <td>No</td>\n",
       "      <td>Basic</td>\n",
       "      <td>College</td>\n",
       "      <td>1/6/11</td>\n",
       "    </tr>\n",
       "    <tr>\n",
       "      <th>10907</th>\n",
       "      <td>No</td>\n",
       "      <td>Extended</td>\n",
       "      <td>Bachelor</td>\n",
       "      <td>2/6/11</td>\n",
       "    </tr>\n",
       "    <tr>\n",
       "      <th>10908</th>\n",
       "      <td>No</td>\n",
       "      <td>Premium</td>\n",
       "      <td>College</td>\n",
       "      <td>2/13/11</td>\n",
       "    </tr>\n",
       "    <tr>\n",
       "      <th>10909</th>\n",
       "      <td>No</td>\n",
       "      <td>Basic</td>\n",
       "      <td>Bachelor</td>\n",
       "      <td>1/8/11</td>\n",
       "    </tr>\n",
       "  </tbody>\n",
       "</table>\n",
       "<p>10910 rows × 4 columns</p>\n",
       "</div>"
      ],
      "text/plain": [
       "      Response  Coverage Education Effective_To_Date\n",
       "0           No     Basic   College           2/18/11\n",
       "1           No     Basic   College           1/18/11\n",
       "2           No     Basic  Bachelor           2/10/11\n",
       "3          Yes  Extended   College           1/11/11\n",
       "4           No   Premium  Bachelor           1/17/11\n",
       "...        ...       ...       ...               ...\n",
       "10905       No   Premium  Bachelor           1/19/11\n",
       "10906       No     Basic   College            1/6/11\n",
       "10907       No  Extended  Bachelor            2/6/11\n",
       "10908       No   Premium   College           2/13/11\n",
       "10909       No     Basic  Bachelor            1/8/11\n",
       "\n",
       "[10910 rows x 4 columns]"
      ]
     },
     "execution_count": 139,
     "metadata": {},
     "output_type": "execute_result"
    }
   ],
   "source": [
    "df_first_quarter.iloc[:,4:8]"
   ]
  },
  {
   "cell_type": "code",
   "execution_count": null,
   "id": "54f2a318-3080-494a-86c9-42b90481337f",
   "metadata": {},
   "outputs": [],
   "source": []
  }
 ],
 "metadata": {
  "kernelspec": {
   "display_name": "Python 3 (ipykernel)",
   "language": "python",
   "name": "python3"
  },
  "language_info": {
   "codemirror_mode": {
    "name": "ipython",
    "version": 3
   },
   "file_extension": ".py",
   "mimetype": "text/x-python",
   "name": "python",
   "nbconvert_exporter": "python",
   "pygments_lexer": "ipython3",
   "version": "3.9.12"
  }
 },
 "nbformat": 4,
 "nbformat_minor": 5
}
